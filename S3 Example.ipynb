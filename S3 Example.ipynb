{
 "cells": [
  {
   "cell_type": "code",
   "execution_count": 2,
   "id": "83532a30-d586-4b78-8696-791b708cb4e3",
   "metadata": {
    "tags": []
   },
   "outputs": [],
   "source": [
    "import json\n",
    "import boto3\n",
    "from sagemaker import get_execution_role\n",
    "role = get_execution_role()\n",
    "\n",
    "#Create connection to s3 bucket\n",
    "conn = boto3.client('s3')\n",
    "\n",
    "#Creates a file list (can be used to loop through)\n",
    "contents = conn.list_objects(Bucket='lndata-columbia-copy')['Contents']"
   ]
  },
  {
   "cell_type": "code",
   "execution_count": 3,
   "id": "309c3757-ffd8-4689-84ee-a086aa2de454",
   "metadata": {
    "tags": []
   },
   "outputs": [
    {
     "data": {
      "text/plain": [
       "{'Key': 'peaceClassify/data/highPeace/00000185c6e8445aa8cd95171ef68f31.json',\n",
       " 'LastModified': datetime.datetime(2021, 11, 1, 15, 18, 5, tzinfo=tzlocal()),\n",
       " 'ETag': '\"0626feefed5bf1ed9505ab49c5220bbe\"',\n",
       " 'Size': 7372,\n",
       " 'StorageClass': 'STANDARD'}"
      ]
     },
     "execution_count": 3,
     "metadata": {},
     "output_type": "execute_result"
    }
   ],
   "source": [
    "#Example item in the list; basically a dictionary with the \"key\" (filepath), and metadata\n",
    "contents[0]"
   ]
  },
  {
   "cell_type": "code",
   "execution_count": 4,
   "id": "0369766b-50a7-456c-902b-ffce1229eea0",
   "metadata": {
    "tags": []
   },
   "outputs": [
    {
     "data": {
      "text/plain": [
       "{'sequenceId': '1036195175377',\n",
       " 'id': '41290908030',\n",
       " 'language': 'English',\n",
       " 'languageCode': 'en',\n",
       " 'title': 'Bone implants to be made from 3D printed salt',\n",
       " 'content': 'ABSTRACT\\n\\n\\n\\nResearchers have developed a new procedure for the manufacture of magnesium implants that contain numerous structurally ordered pores but still retain their mechanical stability.\\n\\nFULL TEXT\\n\\n\\n\\n\\n\\nFor the treatment of complex bone fractures or even missing bone parts, surgeons typically deploy metal implants. In this context, biodegradable magnesium and its alloys are attractive alternatives to the traditional materials like bioinert titanium. Implants made of the light metal are advantageous because they can biodegrade in the body, which can absorb magnesium as a mineral nutrient, rendering a second surgery for implant removal unnecessary. \\n\\n\\n\\n\\nTo promote rapid healing, the design of implants or their surfaces need to promote cellular adhesion or even growth into the implant. Researchers have therefore developed a new procedure for the manufacture of magnesium implants that contain numerous structurally ordered pores but still retain their mechanical stability. \\n\\n\\n\\nThe 3D-printed salt template (left, scale: 1 mm), into which magnesium melts. On the right, magnesium with regularly arranged pores remains. \\nImage: Laboratory of Metal Physics and Technology/Complex Materials/ETH Zurich \\n\\n\\n\\nTo create a porous structure the researchers first printed a three-dimensional salt template using a 3D printer. Because pure, standard table salt is not suitable for printing, they developed a gel-like salt paste for this purpose. The researchers can use the printing process to tailor the strut diameters and spacings of the salt template. \\n\\n\\n\\n\\nTo gain sufficient mechanical strength, the researchers subsequently sintered the salt structure. During sintering, researchers heat the fine-grained materials significantly, while choosing a temperature that\\'s safely below the paste\\'s melting point to retain the structure of the workpiece. \\n\\n\\n\\n\\nThe next step was to infiltrate the pores with magnesium melt. \"The infiltrates obtained in this way are mechanically very stable and can be easily polished, turned, and shaped,\" says Jörg Löffler, professor of metal physics and technology in the materials department at ETH Zurich. After mechanical shaping the researchers dissolved the salt, leaving a pure magnesium implant with numerous, regularly structured pores. \\n\\n\\n\\n\\n\"The possibility to control the pore size, distribution, and orientation in the material is decisive for clinical success, because bone cells like to grow into these pores,\" says Löffler. This process is key for the rapid integration of the implant in bone. \\n\\n\\n\\n\\nThe new procedure for manufacturing these template structures from salt can also be applied to other materials besides magnesium. The researchers expect that the process could help tailor pore geometries in polymers, ceramics, and other light metals. \\n\\n\\n\\n\\nThe idea of this new manufacturing procedure came out of the Master\\'s thesis of Nicole Kleger, now a doctoral student in the Complex Materials Group of André Studart, under whose direction researchers 3D printed the initial salt template. An ETH Zurich Excellence Scholarship & Opportunity stipend supported Kleger\\'s initial study. In her doctoral thesis project, Kleger is now developing the 3D-printing procedure further. \\n\\n\\n\\n\\nThe research appears in\\xa0Advanced Materials, and is curated from the World Economic Forum website.',\n",
       " 'publishedDate': '2020-02-03T12:00:00Z',\n",
       " 'harvestDate': '2020-02-03T22:49:34Z',\n",
       " 'estimatedPublishedDate': '2020-02-03T12:00:00Z',\n",
       " 'url': 'https://ct.moreover.com/?a=41290908030&p=8c8&v=1&x=9NJYGgodMu2bFMsyT2iRKQ',\n",
       " 'wordCount': '545',\n",
       " 'dataFormat': 'text',\n",
       " 'copyright': 'Copyright 2020 First Digital Media All Rights Reserved',\n",
       " 'duplicateGroupId': '41283422716',\n",
       " 'publishingPlatform': {'itemId': '5Y4C-SRY1-JD6R-T19F-00000-00'},\n",
       " 'adultLanguage': 'false',\n",
       " 'indexTerms': [{'domains': ['IND'], 'name': '3D PRINTING', 'score': '90'},\n",
       "  {'domains': ['SUB'], 'name': 'BONE FRACTURES', 'score': '90'},\n",
       "  {'domains': ['IND', 'SUB'], 'name': 'ORTHOPEDICS', 'score': '90'},\n",
       "  {'domains': ['IND'], 'name': 'MANUFACTURING', 'score': '90'},\n",
       "  {'domains': ['IND', 'SUB'],\n",
       "   'name': 'GRADUATE & PROFESSIONAL SCHOOLS',\n",
       "   'score': '84'},\n",
       "  {'domains': ['SUB'], 'name': 'SCHOLARSHIPS & GRANTS', 'score': '63'},\n",
       "  {'domains': ['IND', 'SUB'],\n",
       "   'name': 'COLLEGE & UNIVERSITY PROFESSORS',\n",
       "   'score': '63'}],\n",
       " 'semantics': {'entities': [{'properties': [{'name': 'type',\n",
       "      'value': 'Organization'},\n",
       "     {'name': 'value', 'value': 'ETH Zurich'},\n",
       "     {'name': 'rawValue', 'value': 'ETH Zurich'},\n",
       "     {'name': 'instances', 'value': '3'},\n",
       "     {'name': 'relevance', 'value': '0.4'}],\n",
       "    'provider': '3'},\n",
       "   {'properties': [{'name': 'type', 'value': 'Organization'},\n",
       "     {'name': 'value', 'value': 'World Economic Forum'},\n",
       "     {'name': 'rawValue', 'value': 'World Economic Forum'},\n",
       "     {'name': 'instances', 'value': '1'},\n",
       "     {'name': 'relevance', 'value': '1.0'}],\n",
       "    'provider': '3'},\n",
       "   {'properties': [{'name': 'type', 'value': 'Organization'},\n",
       "     {'name': 'value', 'value': 'Laboratory of Metal Physics'},\n",
       "     {'name': 'rawValue', 'value': 'Laboratory of Metal Physics'},\n",
       "     {'name': 'instances', 'value': '1'},\n",
       "     {'name': 'relevance', 'value': '0.528'}],\n",
       "    'provider': '3'},\n",
       "   {'properties': [{'name': 'type', 'value': 'Person'},\n",
       "     {'name': 'value', 'value': 'Nicole Kleger'},\n",
       "     {'name': 'rawValue', 'value': 'Nicole Kleger'},\n",
       "     {'name': 'instances', 'value': '3'},\n",
       "     {'name': 'relevance', 'value': '0.992'}],\n",
       "    'provider': '3'},\n",
       "   {'properties': [{'name': 'type', 'value': 'Organization'},\n",
       "     {'name': 'value', 'value': 'Complex Materials Group'},\n",
       "     {'name': 'rawValue', 'value': 'Complex Materials Group'},\n",
       "     {'name': 'instances', 'value': '1'},\n",
       "     {'name': 'relevance', 'value': '0.71'}],\n",
       "    'provider': '3'},\n",
       "   {'properties': [{'name': 'type', 'value': 'Person'},\n",
       "     {'name': 'value', 'value': 'JÖrg LÖffler'},\n",
       "     {'name': 'rawValue', 'value': 'Jörg Löffler'},\n",
       "     {'name': 'instances', 'value': '2'},\n",
       "     {'name': 'relevance', 'value': '0.999'}],\n",
       "    'provider': '3'}]},\n",
       " 'sentiment': {'score': '0.34407398',\n",
       "  'entities': [{'type': 'Person',\n",
       "    'value': 'Nicole Kleger',\n",
       "    'mentions': '4',\n",
       "    'score': '1.69072',\n",
       "    'evidence': '7',\n",
       "    'confident': True},\n",
       "   {'type': 'Person',\n",
       "    'value': 'André Studart',\n",
       "    'mentions': '1',\n",
       "    'score': '0.862719',\n",
       "    'evidence': '5',\n",
       "    'confident': True}]},\n",
       " 'print': {'publicationEdition': 'The Mandarin'},\n",
       " 'licenses': [{'name': 'LexisNexis Licensed'}],\n",
       " 'mediaValue': {'value': '64', 'currency': 'USD'},\n",
       " 'mediaValueV2': {'value': '3', 'currency': 'USD'},\n",
       " 'source': {'id': '189597',\n",
       "  'name': 'The Mandarin',\n",
       "  'homeUrl': 'https://www.themandarin.com.au',\n",
       "  'category': 'National',\n",
       "  'editorialRank': '3',\n",
       "  'location': {'country': 'Australia',\n",
       "   'countryCode': 'AU',\n",
       "   'region': 'Oceania',\n",
       "   'subregion': 'Australia and New Zealand'},\n",
       "  'metrics': {'mozscape': {'mozRank': '4.20',\n",
       "    'pageAuthority': '42.00',\n",
       "    'domainAuthority': '51.00',\n",
       "    'externalLinks': '240031',\n",
       "    'links': '263002'},\n",
       "   'reachMetrics': {'reach': [{'type': 'uniqueVisitors',\n",
       "      'value': '4383',\n",
       "      'frequency': 'Monthly'}]}},\n",
       "  'feed': {'id': '654566397',\n",
       "   'mediaType': 'News',\n",
       "   'publishingPlatform': 'LexisNexis Licensed',\n",
       "   'idFromPublisher': 'p435685',\n",
       "   'language': 'Unassigned',\n",
       "   'dataFormat': 'text',\n",
       "   'rank': {'inboundLinkCount': '0'},\n",
       "   'inWhiteList': 'false'}},\n",
       " 'vistaId': '00000185c6e8445aa8cd95171ef68f31'}"
      ]
     },
     "execution_count": 4,
     "metadata": {},
     "output_type": "execute_result"
    }
   ],
   "source": [
    "#Re-define for using with the \"get_object\" method\n",
    "my_bucket = 'lndata-columbia-copy' #Bucket name\n",
    "my_file = 'peaceClassify/data/highPeace/00000185c6e8445aa8cd95171ef68f31.json' #filepath (same as \"key\")\n",
    "\n",
    "#Create connection\n",
    "s3client = boto3.client('s3') #create connection\n",
    "response = s3client.get_object(Bucket=my_bucket, Key=my_file) #get a response\n",
    "body = response['Body'] #access the \"body\" in the response dictionary -- note: this is a \"Streaming\" body -- the file is not read in, it is a connection to the file\n",
    "\n",
    "json.loads(body.read()) #apply .read() to read the streaming body, wrap in json.loads() to load in as Python dict"
   ]
  },
  {
   "cell_type": "code",
   "execution_count": null,
   "id": "f43062ce-b83d-4071-8748-823badc8ef6e",
   "metadata": {},
   "outputs": [],
   "source": []
  }
 ],
 "metadata": {
  "availableInstances": [
   {
    "_defaultOrder": 0,
    "_isFastLaunch": true,
    "category": "General purpose",
    "gpuNum": 0,
    "hideHardwareSpecs": false,
    "memoryGiB": 4,
    "name": "ml.t3.medium",
    "vcpuNum": 2
   },
   {
    "_defaultOrder": 1,
    "_isFastLaunch": false,
    "category": "General purpose",
    "gpuNum": 0,
    "hideHardwareSpecs": false,
    "memoryGiB": 8,
    "name": "ml.t3.large",
    "vcpuNum": 2
   },
   {
    "_defaultOrder": 2,
    "_isFastLaunch": false,
    "category": "General purpose",
    "gpuNum": 0,
    "hideHardwareSpecs": false,
    "memoryGiB": 16,
    "name": "ml.t3.xlarge",
    "vcpuNum": 4
   },
   {
    "_defaultOrder": 3,
    "_isFastLaunch": false,
    "category": "General purpose",
    "gpuNum": 0,
    "hideHardwareSpecs": false,
    "memoryGiB": 32,
    "name": "ml.t3.2xlarge",
    "vcpuNum": 8
   },
   {
    "_defaultOrder": 4,
    "_isFastLaunch": true,
    "category": "General purpose",
    "gpuNum": 0,
    "hideHardwareSpecs": false,
    "memoryGiB": 8,
    "name": "ml.m5.large",
    "vcpuNum": 2
   },
   {
    "_defaultOrder": 5,
    "_isFastLaunch": false,
    "category": "General purpose",
    "gpuNum": 0,
    "hideHardwareSpecs": false,
    "memoryGiB": 16,
    "name": "ml.m5.xlarge",
    "vcpuNum": 4
   },
   {
    "_defaultOrder": 6,
    "_isFastLaunch": false,
    "category": "General purpose",
    "gpuNum": 0,
    "hideHardwareSpecs": false,
    "memoryGiB": 32,
    "name": "ml.m5.2xlarge",
    "vcpuNum": 8
   },
   {
    "_defaultOrder": 7,
    "_isFastLaunch": false,
    "category": "General purpose",
    "gpuNum": 0,
    "hideHardwareSpecs": false,
    "memoryGiB": 64,
    "name": "ml.m5.4xlarge",
    "vcpuNum": 16
   },
   {
    "_defaultOrder": 8,
    "_isFastLaunch": false,
    "category": "General purpose",
    "gpuNum": 0,
    "hideHardwareSpecs": false,
    "memoryGiB": 128,
    "name": "ml.m5.8xlarge",
    "vcpuNum": 32
   },
   {
    "_defaultOrder": 9,
    "_isFastLaunch": false,
    "category": "General purpose",
    "gpuNum": 0,
    "hideHardwareSpecs": false,
    "memoryGiB": 192,
    "name": "ml.m5.12xlarge",
    "vcpuNum": 48
   },
   {
    "_defaultOrder": 10,
    "_isFastLaunch": false,
    "category": "General purpose",
    "gpuNum": 0,
    "hideHardwareSpecs": false,
    "memoryGiB": 256,
    "name": "ml.m5.16xlarge",
    "vcpuNum": 64
   },
   {
    "_defaultOrder": 11,
    "_isFastLaunch": false,
    "category": "General purpose",
    "gpuNum": 0,
    "hideHardwareSpecs": false,
    "memoryGiB": 384,
    "name": "ml.m5.24xlarge",
    "vcpuNum": 96
   },
   {
    "_defaultOrder": 12,
    "_isFastLaunch": false,
    "category": "General purpose",
    "gpuNum": 0,
    "hideHardwareSpecs": false,
    "memoryGiB": 8,
    "name": "ml.m5d.large",
    "vcpuNum": 2
   },
   {
    "_defaultOrder": 13,
    "_isFastLaunch": false,
    "category": "General purpose",
    "gpuNum": 0,
    "hideHardwareSpecs": false,
    "memoryGiB": 16,
    "name": "ml.m5d.xlarge",
    "vcpuNum": 4
   },
   {
    "_defaultOrder": 14,
    "_isFastLaunch": false,
    "category": "General purpose",
    "gpuNum": 0,
    "hideHardwareSpecs": false,
    "memoryGiB": 32,
    "name": "ml.m5d.2xlarge",
    "vcpuNum": 8
   },
   {
    "_defaultOrder": 15,
    "_isFastLaunch": false,
    "category": "General purpose",
    "gpuNum": 0,
    "hideHardwareSpecs": false,
    "memoryGiB": 64,
    "name": "ml.m5d.4xlarge",
    "vcpuNum": 16
   },
   {
    "_defaultOrder": 16,
    "_isFastLaunch": false,
    "category": "General purpose",
    "gpuNum": 0,
    "hideHardwareSpecs": false,
    "memoryGiB": 128,
    "name": "ml.m5d.8xlarge",
    "vcpuNum": 32
   },
   {
    "_defaultOrder": 17,
    "_isFastLaunch": false,
    "category": "General purpose",
    "gpuNum": 0,
    "hideHardwareSpecs": false,
    "memoryGiB": 192,
    "name": "ml.m5d.12xlarge",
    "vcpuNum": 48
   },
   {
    "_defaultOrder": 18,
    "_isFastLaunch": false,
    "category": "General purpose",
    "gpuNum": 0,
    "hideHardwareSpecs": false,
    "memoryGiB": 256,
    "name": "ml.m5d.16xlarge",
    "vcpuNum": 64
   },
   {
    "_defaultOrder": 19,
    "_isFastLaunch": false,
    "category": "General purpose",
    "gpuNum": 0,
    "hideHardwareSpecs": false,
    "memoryGiB": 384,
    "name": "ml.m5d.24xlarge",
    "vcpuNum": 96
   },
   {
    "_defaultOrder": 20,
    "_isFastLaunch": false,
    "category": "General purpose",
    "gpuNum": 0,
    "hideHardwareSpecs": true,
    "memoryGiB": 0,
    "name": "ml.geospatial.interactive",
    "supportedImageNames": [
     "sagemaker-geospatial-v1-0"
    ],
    "vcpuNum": 0
   },
   {
    "_defaultOrder": 21,
    "_isFastLaunch": true,
    "category": "Compute optimized",
    "gpuNum": 0,
    "hideHardwareSpecs": false,
    "memoryGiB": 4,
    "name": "ml.c5.large",
    "vcpuNum": 2
   },
   {
    "_defaultOrder": 22,
    "_isFastLaunch": false,
    "category": "Compute optimized",
    "gpuNum": 0,
    "hideHardwareSpecs": false,
    "memoryGiB": 8,
    "name": "ml.c5.xlarge",
    "vcpuNum": 4
   },
   {
    "_defaultOrder": 23,
    "_isFastLaunch": false,
    "category": "Compute optimized",
    "gpuNum": 0,
    "hideHardwareSpecs": false,
    "memoryGiB": 16,
    "name": "ml.c5.2xlarge",
    "vcpuNum": 8
   },
   {
    "_defaultOrder": 24,
    "_isFastLaunch": false,
    "category": "Compute optimized",
    "gpuNum": 0,
    "hideHardwareSpecs": false,
    "memoryGiB": 32,
    "name": "ml.c5.4xlarge",
    "vcpuNum": 16
   },
   {
    "_defaultOrder": 25,
    "_isFastLaunch": false,
    "category": "Compute optimized",
    "gpuNum": 0,
    "hideHardwareSpecs": false,
    "memoryGiB": 72,
    "name": "ml.c5.9xlarge",
    "vcpuNum": 36
   },
   {
    "_defaultOrder": 26,
    "_isFastLaunch": false,
    "category": "Compute optimized",
    "gpuNum": 0,
    "hideHardwareSpecs": false,
    "memoryGiB": 96,
    "name": "ml.c5.12xlarge",
    "vcpuNum": 48
   },
   {
    "_defaultOrder": 27,
    "_isFastLaunch": false,
    "category": "Compute optimized",
    "gpuNum": 0,
    "hideHardwareSpecs": false,
    "memoryGiB": 144,
    "name": "ml.c5.18xlarge",
    "vcpuNum": 72
   },
   {
    "_defaultOrder": 28,
    "_isFastLaunch": false,
    "category": "Compute optimized",
    "gpuNum": 0,
    "hideHardwareSpecs": false,
    "memoryGiB": 192,
    "name": "ml.c5.24xlarge",
    "vcpuNum": 96
   },
   {
    "_defaultOrder": 29,
    "_isFastLaunch": true,
    "category": "Accelerated computing",
    "gpuNum": 1,
    "hideHardwareSpecs": false,
    "memoryGiB": 16,
    "name": "ml.g4dn.xlarge",
    "vcpuNum": 4
   },
   {
    "_defaultOrder": 30,
    "_isFastLaunch": false,
    "category": "Accelerated computing",
    "gpuNum": 1,
    "hideHardwareSpecs": false,
    "memoryGiB": 32,
    "name": "ml.g4dn.2xlarge",
    "vcpuNum": 8
   },
   {
    "_defaultOrder": 31,
    "_isFastLaunch": false,
    "category": "Accelerated computing",
    "gpuNum": 1,
    "hideHardwareSpecs": false,
    "memoryGiB": 64,
    "name": "ml.g4dn.4xlarge",
    "vcpuNum": 16
   },
   {
    "_defaultOrder": 32,
    "_isFastLaunch": false,
    "category": "Accelerated computing",
    "gpuNum": 1,
    "hideHardwareSpecs": false,
    "memoryGiB": 128,
    "name": "ml.g4dn.8xlarge",
    "vcpuNum": 32
   },
   {
    "_defaultOrder": 33,
    "_isFastLaunch": false,
    "category": "Accelerated computing",
    "gpuNum": 4,
    "hideHardwareSpecs": false,
    "memoryGiB": 192,
    "name": "ml.g4dn.12xlarge",
    "vcpuNum": 48
   },
   {
    "_defaultOrder": 34,
    "_isFastLaunch": false,
    "category": "Accelerated computing",
    "gpuNum": 1,
    "hideHardwareSpecs": false,
    "memoryGiB": 256,
    "name": "ml.g4dn.16xlarge",
    "vcpuNum": 64
   },
   {
    "_defaultOrder": 35,
    "_isFastLaunch": false,
    "category": "Accelerated computing",
    "gpuNum": 1,
    "hideHardwareSpecs": false,
    "memoryGiB": 61,
    "name": "ml.p3.2xlarge",
    "vcpuNum": 8
   },
   {
    "_defaultOrder": 36,
    "_isFastLaunch": false,
    "category": "Accelerated computing",
    "gpuNum": 4,
    "hideHardwareSpecs": false,
    "memoryGiB": 244,
    "name": "ml.p3.8xlarge",
    "vcpuNum": 32
   },
   {
    "_defaultOrder": 37,
    "_isFastLaunch": false,
    "category": "Accelerated computing",
    "gpuNum": 8,
    "hideHardwareSpecs": false,
    "memoryGiB": 488,
    "name": "ml.p3.16xlarge",
    "vcpuNum": 64
   },
   {
    "_defaultOrder": 38,
    "_isFastLaunch": false,
    "category": "Accelerated computing",
    "gpuNum": 8,
    "hideHardwareSpecs": false,
    "memoryGiB": 768,
    "name": "ml.p3dn.24xlarge",
    "vcpuNum": 96
   },
   {
    "_defaultOrder": 39,
    "_isFastLaunch": false,
    "category": "Memory Optimized",
    "gpuNum": 0,
    "hideHardwareSpecs": false,
    "memoryGiB": 16,
    "name": "ml.r5.large",
    "vcpuNum": 2
   },
   {
    "_defaultOrder": 40,
    "_isFastLaunch": false,
    "category": "Memory Optimized",
    "gpuNum": 0,
    "hideHardwareSpecs": false,
    "memoryGiB": 32,
    "name": "ml.r5.xlarge",
    "vcpuNum": 4
   },
   {
    "_defaultOrder": 41,
    "_isFastLaunch": false,
    "category": "Memory Optimized",
    "gpuNum": 0,
    "hideHardwareSpecs": false,
    "memoryGiB": 64,
    "name": "ml.r5.2xlarge",
    "vcpuNum": 8
   },
   {
    "_defaultOrder": 42,
    "_isFastLaunch": false,
    "category": "Memory Optimized",
    "gpuNum": 0,
    "hideHardwareSpecs": false,
    "memoryGiB": 128,
    "name": "ml.r5.4xlarge",
    "vcpuNum": 16
   },
   {
    "_defaultOrder": 43,
    "_isFastLaunch": false,
    "category": "Memory Optimized",
    "gpuNum": 0,
    "hideHardwareSpecs": false,
    "memoryGiB": 256,
    "name": "ml.r5.8xlarge",
    "vcpuNum": 32
   },
   {
    "_defaultOrder": 44,
    "_isFastLaunch": false,
    "category": "Memory Optimized",
    "gpuNum": 0,
    "hideHardwareSpecs": false,
    "memoryGiB": 384,
    "name": "ml.r5.12xlarge",
    "vcpuNum": 48
   },
   {
    "_defaultOrder": 45,
    "_isFastLaunch": false,
    "category": "Memory Optimized",
    "gpuNum": 0,
    "hideHardwareSpecs": false,
    "memoryGiB": 512,
    "name": "ml.r5.16xlarge",
    "vcpuNum": 64
   },
   {
    "_defaultOrder": 46,
    "_isFastLaunch": false,
    "category": "Memory Optimized",
    "gpuNum": 0,
    "hideHardwareSpecs": false,
    "memoryGiB": 768,
    "name": "ml.r5.24xlarge",
    "vcpuNum": 96
   },
   {
    "_defaultOrder": 47,
    "_isFastLaunch": false,
    "category": "Accelerated computing",
    "gpuNum": 1,
    "hideHardwareSpecs": false,
    "memoryGiB": 16,
    "name": "ml.g5.xlarge",
    "vcpuNum": 4
   },
   {
    "_defaultOrder": 48,
    "_isFastLaunch": false,
    "category": "Accelerated computing",
    "gpuNum": 1,
    "hideHardwareSpecs": false,
    "memoryGiB": 32,
    "name": "ml.g5.2xlarge",
    "vcpuNum": 8
   },
   {
    "_defaultOrder": 49,
    "_isFastLaunch": false,
    "category": "Accelerated computing",
    "gpuNum": 1,
    "hideHardwareSpecs": false,
    "memoryGiB": 64,
    "name": "ml.g5.4xlarge",
    "vcpuNum": 16
   },
   {
    "_defaultOrder": 50,
    "_isFastLaunch": false,
    "category": "Accelerated computing",
    "gpuNum": 1,
    "hideHardwareSpecs": false,
    "memoryGiB": 128,
    "name": "ml.g5.8xlarge",
    "vcpuNum": 32
   },
   {
    "_defaultOrder": 51,
    "_isFastLaunch": false,
    "category": "Accelerated computing",
    "gpuNum": 1,
    "hideHardwareSpecs": false,
    "memoryGiB": 256,
    "name": "ml.g5.16xlarge",
    "vcpuNum": 64
   },
   {
    "_defaultOrder": 52,
    "_isFastLaunch": false,
    "category": "Accelerated computing",
    "gpuNum": 4,
    "hideHardwareSpecs": false,
    "memoryGiB": 192,
    "name": "ml.g5.12xlarge",
    "vcpuNum": 48
   },
   {
    "_defaultOrder": 53,
    "_isFastLaunch": false,
    "category": "Accelerated computing",
    "gpuNum": 4,
    "hideHardwareSpecs": false,
    "memoryGiB": 384,
    "name": "ml.g5.24xlarge",
    "vcpuNum": 96
   },
   {
    "_defaultOrder": 54,
    "_isFastLaunch": false,
    "category": "Accelerated computing",
    "gpuNum": 8,
    "hideHardwareSpecs": false,
    "memoryGiB": 768,
    "name": "ml.g5.48xlarge",
    "vcpuNum": 192
   }
  ],
  "instance_type": "ml.t3.medium",
  "kernelspec": {
   "display_name": "Python 3 (Data Science)",
   "language": "python",
   "name": "python3__SAGEMAKER_INTERNAL__arn:aws:sagemaker:us-east-2:429704687514:image/datascience-1.0"
  },
  "language_info": {
   "codemirror_mode": {
    "name": "ipython",
    "version": 3
   },
   "file_extension": ".py",
   "mimetype": "text/x-python",
   "name": "python",
   "nbconvert_exporter": "python",
   "pygments_lexer": "ipython3",
   "version": "3.7.10"
  }
 },
 "nbformat": 4,
 "nbformat_minor": 5
}
