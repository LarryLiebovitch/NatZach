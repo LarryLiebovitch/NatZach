{
 "cells": [
  {
   "cell_type": "code",
   "execution_count": 79,
   "id": "ea6d1735-2f13-460c-b01d-0a81bfbdfa67",
   "metadata": {},
   "outputs": [],
   "source": [
    "import pandas as pd\n",
    "import numpy as np\n",
    "from sklearn.feature_extraction.text import CountVectorizer\n",
    "from scipy.sparse import save_npz, load_npz\n",
    "import json\n",
    "import scipy as sp"
   ]
  },
  {
   "cell_type": "code",
   "execution_count": 25,
   "id": "928c69eb-b8e7-439c-be53-739eb2e4bc9b",
   "metadata": {},
   "outputs": [
    {
     "name": "stdout",
     "output_type": "stream",
     "text": [
      "Sparse matrix file size: 341.03 mb\n",
      "Sparse matrix dimensions: (217164, 207500)\n"
     ]
    }
   ],
   "source": [
    "cv_text = load_npz('cv_text_ln_sample.npz') #load sparse\n",
    "with open('vocab_ln_sample.txt', 'r') as f:\n",
    "    vocab = json.loads(f.read()) #load vocab dict\n",
    "labels = pd.read_csv('country_labels_ln_sample.csv', index_col = 0).reset_index(drop=True) #load labels\n",
    "    \n",
    "print(f\"Sparse matrix file size: {cv_text.data.nbytes /1e6:.2f} mb\")\n",
    "print(f\"Sparse matrix dimensions: {cv_text.shape}\")"
   ]
  },
  {
   "cell_type": "markdown",
   "id": "6853353c-219f-41ce-984b-315dcc883a06",
   "metadata": {},
   "source": [
    "# Create bootstrapped sample"
   ]
  },
  {
   "cell_type": "code",
   "execution_count": 41,
   "id": "c2b998cf-e4e0-4ca5-8f50-49b449601b60",
   "metadata": {},
   "outputs": [],
   "source": [
    "def create_bs(label, bs_size = 50):\n",
    "    bs_sample = np.random.choice(labels[labels.country == label].index, size = bs_size)\n",
    "\n",
    "    for index in bs_sample:\n",
    "        sample_vectors = list()\n",
    "        sample_vectors.append(cv_text[index,:])\n",
    "    return sum(sample_vectors)"
   ]
  },
  {
   "cell_type": "code",
   "execution_count": 129,
   "id": "65ab9919-6973-4142-a19e-a44469b1a15d",
   "metadata": {},
   "outputs": [],
   "source": [
    "countries = labels.country.unique()\n",
    "bs_data = dict()\n",
    "for country in countries:\n",
    "    bs_data[country] = [create_bs(country) for k in range(1000)] #create 1000 bs samples for each country\n",
    "\n",
    "#create bs cv dataframe and labels\n",
    "bs_cv = sp.sparse.vstack([sp.sparse.vstack(bs_data[country]) for country in countries])\n",
    "bs_labels = np.array([x for nested in [1000 * [country] for country in countries] for x in nested])"
   ]
  },
  {
   "cell_type": "markdown",
   "id": "88a498cb-e472-46fe-b242-563d95b52e53",
   "metadata": {},
   "source": [
    "# Test as country classifier"
   ]
  },
  {
   "cell_type": "code",
   "execution_count": 63,
   "id": "0d2c1836-5a02-43ee-a84e-254049439d4b",
   "metadata": {},
   "outputs": [],
   "source": [
    "from sklearn.ensemble import RandomForestClassifier\n",
    "from sklearn.model_selection import train_test_split"
   ]
  },
  {
   "cell_type": "code",
   "execution_count": 200,
   "id": "0bda5cd5-5a79-4af1-9e36-92c75680be0d",
   "metadata": {},
   "outputs": [
    {
     "name": "stdout",
     "output_type": "stream",
     "text": [
      "Number of correct classifications: 2482 out of 3000\n",
      "\n",
      "The probability of getting at least 2482 out of 3000 correct, \n",
      " assuming binomial:  0.0\n"
     ]
    }
   ],
   "source": [
    "Xtrain, Xtest, Ytrain, Ytest = train_test_split(bs_cv,bs_labels,\n",
    "                                                test_size = .3, stratify = bs_labels)\n",
    "\n",
    "rfc = RandomForestClassifier()\n",
    "rfc.fit(Xtrain, Ytrain.reshape(-1))\n",
    "\n",
    "correct = (rfc.predict(Xtest) == Ytest).sum()\n",
    "\n",
    "# prob = lambda k,total: sp.special.comb(total,k)*((.1)**(k))*((.9)**(total-k))\n",
    "\n",
    "print(f\"Number of correct classifications: {correct} out of {Xtest.shape[0]}\")\n",
    "print()\n",
    "print(f\"The probability of getting at least {correct} out of {Xtest.shape[0]} correct, \\n assuming binomial:  {1 - sp.stats.binom.cdf(correct,Xtest.shape[0], .1)}\")"
   ]
  },
  {
   "cell_type": "code",
   "execution_count": 201,
   "id": "b76b846b-5afd-4b2b-8e1f-e26cc7a77b15",
   "metadata": {},
   "outputs": [
    {
     "data": {
      "text/plain": [
       "['phaseof',\n",
       " 'phaseobserveintangible',\n",
       " 'phasein',\n",
       " 'phasefinde',\n",
       " 'phasedown',\n",
       " 'phased',\n",
       " 'pharynx',\n",
       " 'pharyngitis',\n",
       " 'pharyngeal',\n",
       " 'pharos',\n",
       " 'pharmerge',\n",
       " 'pharonic',\n",
       " 'pharo',\n",
       " 'pharnext',\n",
       " 'pharmtech',\n",
       " 'pharmswellbio',\n",
       " 'pharmstandard',\n",
       " 'pharmsintez',\n",
       " 'pharmore',\n",
       " 'pharmion',\n",
       " '____________________________________________person']"
      ]
     },
     "execution_count": 201,
     "metadata": {},
     "output_type": "execute_result"
    }
   ],
   "source": [
    "[vocab[str(k)] for k in rfc.feature_importances_.argsort()[20::-1]]"
   ]
  },
  {
   "cell_type": "markdown",
   "id": "c29adbf4-c0b7-4165-a07d-e16b2c671a94",
   "metadata": {},
   "source": [
    "## Repeat with tfidf"
   ]
  },
  {
   "cell_type": "code",
   "execution_count": 122,
   "id": "4da19afb-1e76-4f5d-b2b7-bc40925c1454",
   "metadata": {},
   "outputs": [],
   "source": [
    "from sklearn.feature_extraction.text import TfidfTransformer"
   ]
  },
  {
   "cell_type": "code",
   "execution_count": 165,
   "id": "98263e43-c161-4e0e-a11c-aa64fa8e8f46",
   "metadata": {},
   "outputs": [
    {
     "name": "stdout",
     "output_type": "stream",
     "text": [
      "Number of correct classifications: 2463 out of 3000\n",
      "\n",
      "The probability of getting at least 2463 out of 3000 correct, \n",
      " assuming binomial:  0.0\n"
     ]
    }
   ],
   "source": [
    "tfidf = TfidfTransformer()\n",
    "bs_tfidf = tfidf.fit_transform(bs_cv)\n",
    "\n",
    "Xtrain, Xtest, Ytrain, Ytest = train_test_split(bs_tfidf,bs_labels,\n",
    "                                                test_size = .3, stratify = bs_labels)\n",
    "\n",
    "rfc = RandomForestClassifier()\n",
    "rfc.fit(Xtrain, Ytrain.reshape(-1))\n",
    "\n",
    "correct = (rfc.predict(Xtest) == Ytest).sum()\n",
    "\n",
    "print(f\"Number of correct classifications: {correct} out of {Xtest.shape[0]}\")\n",
    "print()\n",
    "print(f\"The probability of getting at least {correct} out of {Xtest.shape[0]} correct, \\n assuming binomial:  {1 - sp.stats.binom.cdf(correct,Xtest.shape[0], .1)}\")"
   ]
  },
  {
   "cell_type": "code",
   "execution_count": 197,
   "id": "b5aa085a-91ed-4e81-807a-e1c1cf372a64",
   "metadata": {},
   "outputs": [
    {
     "data": {
      "text/plain": [
       "['phillipa',\n",
       " 'phillie',\n",
       " 'philli',\n",
       " 'phill',\n",
       " 'philjame',\n",
       " 'philistinism',\n",
       " 'philistine',\n",
       " 'philipsen',\n",
       " 'philippus',\n",
       " 'philippino',\n",
       " 'phili',\n",
       " 'philippinesbecause',\n",
       " 'philippines',\n",
       " 'philippine',\n",
       " 'philipine',\n",
       " 'philiphave',\n",
       " 'philine',\n",
       " 'phililppine',\n",
       " 'philidor',\n",
       " 'philic',\n",
       " '____________________________________________person']"
      ]
     },
     "execution_count": 197,
     "metadata": {},
     "output_type": "execute_result"
    }
   ],
   "source": [
    "[vocab[str(k)] for k in rfc.feature_importances_.argsort()[20::-1]]"
   ]
  },
  {
   "cell_type": "code",
   "execution_count": 190,
   "id": "f087fc5c-8b20-415d-8d4e-1974b1c588a0",
   "metadata": {},
   "outputs": [],
   "source": [
    "vocab_swap = {k: v for v, k in vocab.items()}"
   ]
  },
  {
   "cell_type": "code",
   "execution_count": 198,
   "id": "73a93c81-ae65-4429-9bf9-9422f93a4cb3",
   "metadata": {},
   "outputs": [
    {
     "data": {
      "text/plain": [
       "'135257'"
      ]
     },
     "execution_count": 198,
     "metadata": {},
     "output_type": "execute_result"
    }
   ],
   "source": [
    "vocab_swap[vocab['135257']]"
   ]
  },
  {
   "cell_type": "markdown",
   "id": "cec29972-d6f0-4d4f-b083-52b4354feee6",
   "metadata": {},
   "source": [
    "Still mostly identifying rare words; should filter out when doing CV"
   ]
  }
 ],
 "metadata": {
  "kernelspec": {
   "display_name": "Python 3 (ipykernel)",
   "language": "python",
   "name": "python3"
  },
  "language_info": {
   "codemirror_mode": {
    "name": "ipython",
    "version": 3
   },
   "file_extension": ".py",
   "mimetype": "text/x-python",
   "name": "python",
   "nbconvert_exporter": "python",
   "pygments_lexer": "ipython3",
   "version": "3.8.15"
  }
 },
 "nbformat": 4,
 "nbformat_minor": 5
}
