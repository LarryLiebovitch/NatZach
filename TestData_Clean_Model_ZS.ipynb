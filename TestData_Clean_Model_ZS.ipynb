{
 "cells": [
  {
   "cell_type": "code",
   "execution_count": 1,
   "id": "e2e4f525-8769-46e7-b89c-2e216e51fc87",
   "metadata": {},
   "outputs": [],
   "source": [
    "import pandas as pd\n",
    "import glob\n",
    "import numpy as np\n",
    "from matplotlib import pyplot as plt\n",
    "import seaborn as sns"
   ]
  },
  {
   "cell_type": "markdown",
   "id": "bd9e2d28-90ec-4a6c-9684-97ec344d3c3f",
   "metadata": {},
   "source": [
    "# Read in articles"
   ]
  },
  {
   "cell_type": "code",
   "execution_count": 2,
   "id": "02eaf9c5-5915-43a7-b5c8-5fb02849517b",
   "metadata": {},
   "outputs": [],
   "source": [
    "# Read in articles and add country column from filename\n",
    "def read_articles(filepath):\n",
    "    data = pd.read_csv(filepath)\n",
    "    return pd.concat([data.iloc[:,[1,-1]],\n",
    "                      pd.Series(data.shape[0]*[filepath.split('/')[-1][:2]],name = 'country')\n",
    "                     ], axis = 1)"
   ]
  },
  {
   "cell_type": "code",
   "execution_count": 3,
   "id": "7b32ac10-eaf9-487a-8d88-cf6b546bc70f",
   "metadata": {},
   "outputs": [
    {
     "data": {
      "text/html": [
       "<div>\n",
       "<style scoped>\n",
       "    .dataframe tbody tr th:only-of-type {\n",
       "        vertical-align: middle;\n",
       "    }\n",
       "\n",
       "    .dataframe tbody tr th {\n",
       "        vertical-align: top;\n",
       "    }\n",
       "\n",
       "    .dataframe thead th {\n",
       "        text-align: right;\n",
       "    }\n",
       "</style>\n",
       "<table border=\"1\" class=\"dataframe\">\n",
       "  <thead>\n",
       "    <tr style=\"text-align: right;\">\n",
       "      <th></th>\n",
       "      <th>id</th>\n",
       "      <th>text</th>\n",
       "      <th>country</th>\n",
       "    </tr>\n",
       "  </thead>\n",
       "  <tbody>\n",
       "    <tr>\n",
       "      <th>0</th>\n",
       "      <td>16599877</td>\n",
       "      <td>ACCA hold first Virtual Career amp Job Fair Th...</td>\n",
       "      <td>GH</td>\n",
       "    </tr>\n",
       "    <tr>\n",
       "      <th>1</th>\n",
       "      <td>18058465</td>\n",
       "      <td>Vindictive Akufo Addo behind Mahama 's EOCO pe...</td>\n",
       "      <td>GH</td>\n",
       "    </tr>\n",
       "    <tr>\n",
       "      <th>2</th>\n",
       "      <td>20001894</td>\n",
       "      <td>GCB wipe UT bank logo branch Rebranding head o...</td>\n",
       "      <td>GH</td>\n",
       "    </tr>\n",
       "    <tr>\n",
       "      <th>3</th>\n",
       "      <td>19754947</td>\n",
       "      <td>Armyworms defeat yet Suhuyini Farmers Tamale N...</td>\n",
       "      <td>GH</td>\n",
       "    </tr>\n",
       "    <tr>\n",
       "      <th>4</th>\n",
       "      <td>20803299</td>\n",
       "      <td>Akufo Addo celebrates legend age J.H Nketia Pr...</td>\n",
       "      <td>GH</td>\n",
       "    </tr>\n",
       "    <tr>\n",
       "      <th>...</th>\n",
       "      <td>...</td>\n",
       "      <td>...</td>\n",
       "      <td>...</td>\n",
       "    </tr>\n",
       "    <tr>\n",
       "      <th>30690</th>\n",
       "      <td>8260757</td>\n",
       "      <td>South Africa export fruit European market many...</td>\n",
       "      <td>KE</td>\n",
       "    </tr>\n",
       "    <tr>\n",
       "      <th>30691</th>\n",
       "      <td>7753188</td>\n",
       "      <td>According Cambridge University report good cho...</td>\n",
       "      <td>KE</td>\n",
       "    </tr>\n",
       "    <tr>\n",
       "      <th>30692</th>\n",
       "      <td>7712299</td>\n",
       "      <td>Aggies Fresh establish DMA Solutions Inc. intr...</td>\n",
       "      <td>KE</td>\n",
       "    </tr>\n",
       "    <tr>\n",
       "      <th>30693</th>\n",
       "      <td>13659978</td>\n",
       "      <td>In Madurai state Tamil Nadu wholesaler attribu...</td>\n",
       "      <td>KE</td>\n",
       "    </tr>\n",
       "    <tr>\n",
       "      <th>30694</th>\n",
       "      <td>15697494</td>\n",
       "      <td>A new free bulletin release Michigan State Uni...</td>\n",
       "      <td>KE</td>\n",
       "    </tr>\n",
       "  </tbody>\n",
       "</table>\n",
       "<p>724281 rows × 3 columns</p>\n",
       "</div>"
      ],
      "text/plain": [
       "             id                                               text country\n",
       "0      16599877  ACCA hold first Virtual Career amp Job Fair Th...      GH\n",
       "1      18058465  Vindictive Akufo Addo behind Mahama 's EOCO pe...      GH\n",
       "2      20001894  GCB wipe UT bank logo branch Rebranding head o...      GH\n",
       "3      19754947  Armyworms defeat yet Suhuyini Farmers Tamale N...      GH\n",
       "4      20803299  Akufo Addo celebrates legend age J.H Nketia Pr...      GH\n",
       "...         ...                                                ...     ...\n",
       "30690   8260757  South Africa export fruit European market many...      KE\n",
       "30691   7753188  According Cambridge University report good cho...      KE\n",
       "30692   7712299  Aggies Fresh establish DMA Solutions Inc. intr...      KE\n",
       "30693  13659978  In Madurai state Tamil Nadu wholesaler attribu...      KE\n",
       "30694  15697494  A new free bulletin release Michigan State Uni...      KE\n",
       "\n",
       "[724281 rows x 3 columns]"
      ]
     },
     "execution_count": 3,
     "metadata": {},
     "output_type": "execute_result"
    }
   ],
   "source": [
    "# Load in articles\n",
    "filelist = glob.glob('data/5_domestic_filter_Ngram_stopwords_lemmatize/*')\n",
    "data = pd.concat([read_articles(k) for k in filelist], axis = 0)\n",
    "data.columns = ['id', 'text', 'country']\n",
    "data"
   ]
  },
  {
   "cell_type": "markdown",
   "id": "95088556-aa8f-4cad-81fa-2996f6f56ae2",
   "metadata": {},
   "source": [
    "### Drop Nulls"
   ]
  },
  {
   "cell_type": "code",
   "execution_count": 4,
   "id": "6af83d73-737f-4410-b7fb-314763dfddf7",
   "metadata": {},
   "outputs": [
    {
     "name": "stdout",
     "output_type": "stream",
     "text": [
      "Dropped 691 rows of blank articles\n"
     ]
    }
   ],
   "source": [
    "print(f'Dropped {data.text.isnull().sum()} rows of blank articles')\n",
    "x = data[data.text.notnull()].copy().reset_index(drop=True)"
   ]
  },
  {
   "cell_type": "markdown",
   "id": "9c6bf45e-7ceb-4f35-a8eb-771dd7b817c7",
   "metadata": {
    "tags": []
   },
   "source": [
    "## Inspect duplicates"
   ]
  },
  {
   "cell_type": "code",
   "execution_count": 5,
   "id": "2a354405-090f-4c78-8caf-9a57e2b6fc2c",
   "metadata": {},
   "outputs": [],
   "source": [
    "def get_dupes(df, col, headsize = 10):\n",
    "    duplicates = df[col].value_counts().apply(lambda t: t>1)\n",
    "    print(df[df[col].apply(lambda ii: duplicates[ii])].sort_values(col).head(headsize))\n",
    "    return duplicates\n",
    "    "
   ]
  },
  {
   "cell_type": "markdown",
   "id": "6a5005c8-165e-4997-9e0d-aa5632ad924b",
   "metadata": {},
   "source": [
    "### Duplicate IDs"
   ]
  },
  {
   "cell_type": "code",
   "execution_count": 6,
   "id": "077a9740-61a4-4839-8ff3-c4a26404d86a",
   "metadata": {
    "tags": []
   },
   "outputs": [
    {
     "name": "stdout",
     "output_type": "stream",
     "text": [
      "          id                                               text country\n",
      "129345  5285  Chile becomes sixth country ban Brazilian beef...      GB\n",
      "97405   5285  Chile becomes sixth country ban Brazilian beef...      GB\n",
      "122294  5516  Obedience To Authority Should We Trust The Gov...      GB\n",
      "106145  5516  Obedience To Authority Should We Trust The Gov...      GB\n",
      "103839  7124  Nathan Eagle Dumb phone future advertising Thi...      GB\n",
      "119988  7124  Nathan Eagle Dumb phone future advertising Thi...      GB\n",
      "131669  7394  In 2013 's little people make rock biopic spot...      GB\n",
      "99729   7394  In 2013 's little people make rock biopic spot...      GB\n",
      "130555  7502  Talyllyn steam railway Gwynedd asks cash volun...      GB\n",
      "98615   7502  Talyllyn steam railway Gwynedd asks cash volun...      GB\n",
      "\n",
      " Remaining articles: 707799\n"
     ]
    }
   ],
   "source": [
    "#Show duplicate articles sample\n",
    "get_dupes(x,'id')\n",
    "\n",
    "#Drop duplicate article IDs\n",
    "x.drop_duplicates(subset = 'id', inplace = True)\n",
    "print(f'\\n Remaining articles: {x.shape[0]}')"
   ]
  },
  {
   "cell_type": "markdown",
   "id": "4aa12836-c56c-4619-aa62-0bacab209f24",
   "metadata": {
    "tags": []
   },
   "source": [
    "### Duplicate texts"
   ]
  },
  {
   "cell_type": "code",
   "execution_count": 7,
   "id": "714a51c7-2f38-4822-a6e3-d3a4ffe5b11e",
   "metadata": {},
   "outputs": [
    {
     "name": "stdout",
     "output_type": "stream",
     "text": [
      "              id                                               text country\n",
      "667559  81556771  *One Day Access e Edition View available Publi...      US\n",
      "667551  81987289  *One Day Access e Edition View available Publi...      US\n",
      "667555  81230309  *One Day Access e Edition View available Publi...      US\n",
      "667565  84385286  *One Day Access e Edition View available Publi...      US\n",
      "667567  83341964  *One Day Access e Edition View available Publi...      US\n",
      "165977  71795449  12 Cases Of COVID 19 Confirmed March 17 2020 W...      JM\n",
      "165181  71795451  12 Cases Of COVID 19 Confirmed March 17 2020 W...      JM\n",
      "148298  72099451  2,000 person monitor opening day care entertai...      JM\n",
      "148341  72109443  2,000 person monitor opening day care entertai...      JM\n",
      "140352   4721550  2015 Entertainment REWIND James make history b...      JM\n",
      "146285  10093623  2015 Entertainment REWIND James make history b...      JM\n",
      "76884   21764135  2019 Obasanjo tell politician general election...      NG\n",
      "64291   21759770  2019 Obasanjo tell politician general election...      NG\n",
      "45564   51382633  2022 World Cup No underdog team African footba...      NG\n",
      "45536   51382645  2022 World Cup No underdog team African footba...      NG\n",
      "148672  72086234  226 job loss Wray Nephew close operation St El...      JM\n",
      "150649  26229823  226 job loss Wray Nephew close operation St El...      JM\n",
      "148343  71894072  31 confirm case COVID 19 locally tally 28 Jama...      JM\n",
      "148287  71894926  31 confirm case COVID 19 locally tally 28 Jama...      JM\n",
      "148513  72280369  4 billion spent far COVID fight Ministry The M...      JM\n"
     ]
    }
   ],
   "source": [
    "#There are duplicate articles with different id's\n",
    "textdupes = get_dupes(x,'text',headsize = 20);\n",
    "del textdupes"
   ]
  },
  {
   "cell_type": "code",
   "execution_count": 8,
   "id": "3d5fdffe-55e2-496c-a3dc-3616a075b95e",
   "metadata": {},
   "outputs": [],
   "source": [
    "def duplicated_across_feature(df, col1, col2):\n",
    "    \"\"\"Checks if there are duplicates in col1 across different features in col2\n",
    "     For example, col1 could be the text column, col2 the country column, to check if there are text duplicates\n",
    "     across different countries.\n",
    "     \n",
    "     args: \n",
    "         df: dataframe\n",
    "         col1: column to check for duplicates\n",
    "         col2: feature to count duplicates against\n",
    "    returns: \n",
    "        dataframe giving count of distinct col2 values where duplicate col1 values occur\"\"\"\n",
    "    col1dupe_col2 = df.groupby(col1)[col2].apply(lambda t: t.unique())\n",
    "    col1dupe_col2.name = col2+'_list'\n",
    "    col1dupe_col2 = col1dupe_col2.reset_index()\n",
    "    col1dupe_col2[col2+'_count'] = col1dupe_col2[col2+'_list'].apply(lambda t:len(t))\n",
    "    return col1dupe_col2"
   ]
  },
  {
   "cell_type": "code",
   "execution_count": 9,
   "id": "b9d27090-b845-4269-a4f8-a58e8e3f70fa",
   "metadata": {},
   "outputs": [],
   "source": [
    "#Only a small amount of text duplicates span multiple countries. I will leave them in each country for now.\n",
    "textdupe_countrycount = duplicated_across_feature(x,'text','country')\n",
    "multi_country_dupes = textdupe_countrycount[textdupe_countrycount['country_count'] > 1]\n",
    "multi_country_dupes\n",
    "del textdupe_countrycount\n",
    "del multi_country_dupes"
   ]
  },
  {
   "cell_type": "code",
   "execution_count": 10,
   "id": "8dfb614a-e1cd-4c73-91ea-b05e8227b2e6",
   "metadata": {},
   "outputs": [],
   "source": [
    "#Drop identical text from same country, but keep duplicates across countries\n",
    "x = x.drop_duplicates(subset = ['text', 'country'])\n",
    "x.reset_index(drop=True,inplace=True)\n",
    "x['text'] = x['text'].str.lower()\n",
    "\n",
    "#Shows duplicates across countries not dropped\n",
    "# textdupe_countrycount = duplicated_across_feature(x,'text','country')\n",
    "# multi_country_dupes = textdupe_countrycount[textdupe_countrycount['country_count'] > 1]\n",
    "# multi_country_dupes.head()\n",
    "\n",
    "# del textdupe_countrycount\n",
    "# del multi_country_dupes"
   ]
  },
  {
   "cell_type": "code",
   "execution_count": 11,
   "id": "12ce90f9-6132-4e4a-b0bf-4fcf32dd0c39",
   "metadata": {},
   "outputs": [
    {
     "name": "stdout",
     "output_type": "stream",
     "text": [
      "Longest articles:\n",
      " 301779    329526\n",
      "305743    137930\n",
      "450689     82749\n",
      "410283     59325\n",
      "309935     38736\n",
      "309769     34066\n",
      "309658     30468\n",
      "185197     29958\n",
      "462298     25442\n",
      "462317     24886\n",
      "309751     24249\n",
      "309740     24050\n",
      "24147      22941\n",
      "410258     22122\n",
      "462310     21201\n",
      "Name: text, dtype: int64\n",
      "\n",
      " Average article length: 365.584525261485\n"
     ]
    },
    {
     "data": {
      "text/plain": [
       "<AxesSubplot: >"
      ]
     },
     "execution_count": 11,
     "metadata": {},
     "output_type": "execute_result"
    },
    {
     "data": {
      "image/png": "[encoded data removed]",
      "text/plain": [
       "<Figure size 640x480 with 1 Axes>"
      ]
     },
     "metadata": {},
     "output_type": "display_data"
    }
   ],
   "source": [
    "lengths = x.text.apply(lambda x: len(x.split()))\n",
    "print('Longest articles:\\n', lengths.sort_values(ascending=False).head(15))\n",
    "print(f'\\n Average article length: {lengths.mean()}')\n",
    "np.log(lengths).hist(bins=50)"
   ]
  },
  {
   "cell_type": "markdown",
   "id": "1ced9acd-56d0-4d32-9933-5682ccf88fa0",
   "metadata": {},
   "source": [
    "# Create Count Vectors & Vocabulary"
   ]
  },
  {
   "cell_type": "code",
   "execution_count": 12,
   "id": "ce78ff30-e28c-4832-aae5-6de59f55be93",
   "metadata": {},
   "outputs": [],
   "source": [
    "from sklearn.feature_extraction.text import CountVectorizer"
   ]
  },
  {
   "cell_type": "code",
   "execution_count": 13,
   "id": "9e1ca8d8-404e-41e6-af06-898326cee8ed",
   "metadata": {},
   "outputs": [
    {
     "name": "stdout",
     "output_type": "stream",
     "text": [
      "['acca', 'hold', 'first', 'virtual', 'career', 'amp', 'job', 'fair', 'the', 'objective']\n",
      "[87897, 532386, 438097, 1231671, 253747, 124992, 597885, 423265, 1150304, 843647]\n",
      "Observations: 703482\n",
      "Vocab size: 1289877\n"
     ]
    }
   ],
   "source": [
    "countv = CountVectorizer()\n",
    "cv_text = countv.fit_transform(x.text)\n",
    "vocab_swap = {v: k for k, v in countv.vocabulary_.items()}\n",
    "\n",
    "#Sample encodings\n",
    "print(list(countv.vocabulary_.keys())[:10])\n",
    "print(list(countv.vocabulary_.values())[:10])\n",
    "\n",
    "print(f'Observations: {cv_text.shape[0]}')\n",
    "print(f'Vocab size: {cv_text.shape[1]}')"
   ]
  },
  {
   "cell_type": "code",
   "execution_count": 14,
   "id": "d6c9461e-4ea0-4569-9fb8-c1696545db36",
   "metadata": {},
   "outputs": [],
   "source": [
    "#Extract labels and delete copy of text data\n",
    "labels = x.country\n",
    "del x"
   ]
  },
  {
   "cell_type": "code",
   "execution_count": 15,
   "id": "4f1fb31c-d03d-4ba9-9e67-1c86aff46675",
   "metadata": {},
   "outputs": [
    {
     "name": "stdout",
     "output_type": "stream",
     "text": [
      "Shape of encoded labels: (703482,)\n",
      "Shape of encoded labels (CSR): (703482, 1)\n",
      "Shape of count vectorized text data: (703482, 1289877)\n"
     ]
    }
   ],
   "source": [
    "#Encode country codes as numerical labels\n",
    "from sklearn.preprocessing import LabelEncoder\n",
    "enc = LabelEncoder()\n",
    "labels_enc = enc.fit_transform(labels)\n",
    "print(f'Shape of encoded labels: {labels_enc.shape}')\n",
    "\n",
    "#Create sparse matrix of encoded labels\n",
    "from scipy.sparse import hstack, vstack\n",
    "from scipy.sparse import csr_matrix\n",
    "\n",
    "labels_enc = csr_matrix(labels_enc).reshape(-1,1)\n",
    "print(f'Shape of encoded labels (CSR): {labels_enc.shape}')\n",
    "print(f'Shape of count vectorized text data: {cv_text.shape}')"
   ]
  },
  {
   "cell_type": "code",
   "execution_count": 16,
   "id": "2785eed5-b3b3-4022-bfae-0b967faf4b7d",
   "metadata": {},
   "outputs": [],
   "source": [
    "#Create labeled count vectorized dataset from original as sparse matrix\n",
    "xy = hstack([cv_text,labels_enc])\n",
    "xy = xy.tocsr()\n",
    "del cv_text"
   ]
  },
  {
   "cell_type": "markdown",
   "id": "a3626343-ae0f-4a49-8f87-f7d673d033ae",
   "metadata": {},
   "source": [
    "# Create Country-Aggregated Dataset"
   ]
  },
  {
   "cell_type": "code",
   "execution_count": 17,
   "id": "d36c3aed-891a-4a2a-a2f6-660f81508688",
   "metadata": {},
   "outputs": [],
   "source": [
    "import scipy.sparse as sp\n",
    "\n",
    "#Get rows of mat whose last column == lab\n",
    "get_rows = lambda mat, lab: sp.find(mat[:,-1] == lab)[0]\n",
    "\n",
    "#Sum all rows of a matrix from the list of indices\n",
    "sum_indices = lambda mat, indices: vstack([mat.getrow(index) for index in indices]).sum(axis = 0)"
   ]
  },
  {
   "cell_type": "code",
   "execution_count": 18,
   "id": "50f1907a-83b1-43f9-b975-b077f77ea495",
   "metadata": {},
   "outputs": [
    {
     "name": "stderr",
     "output_type": "stream",
     "text": [
      "/var/folders/g3/v_62hrbj20d1z2xt6c246v780000gn/T/ipykernel_61322/581631751.py:6: SparseEfficiencyWarning: Comparing a sparse matrix with 0 using == is inefficient, try using != instead.\n",
      "  country_vectors[lab] = np.array(sum_indices(xy[:,:-1],get_rows(xy,lab))).reshape(-1)\n"
     ]
    }
   ],
   "source": [
    "# Sum all count vectors from each article by country\n",
    "# Gives count vectors which represent totals accross all articles in the country\n",
    " \n",
    "\n",
    "country_labs = np.unique(np.array(labels_enc.todense()).reshape(-1))\n",
    "country_vectors = dict()\n",
    "#XXX Create new functions so that it only has to loop through matrix once, instead of for each label\n",
    "#Still keep original functions, as will be useful for, e.g. bootstrapping\n",
    "for lab in country_labs:\n",
    "    country_vectors[lab] = np.array(sum_indices(xy[:,:-1],get_rows(xy,lab))).reshape(-1)\n",
    "country_vectors = pd.DataFrame(country_vectors).T"
   ]
  },
  {
   "cell_type": "markdown",
   "id": "2b66623b-cc51-4c5a-af87-66a104377129",
   "metadata": {},
   "source": [
    "## Create bootstrapped dataset"
   ]
  },
  {
   "cell_type": "markdown",
   "id": "322a7f8d-44c6-43cf-ab26-3408b826c598",
   "metadata": {},
   "source": [
    "## Check distribution of article counts"
   ]
  },
  {
   "cell_type": "code",
   "execution_count": 19,
   "id": "26c64c49-910d-481d-beca-0e42e130bf90",
   "metadata": {},
   "outputs": [
    {
     "data": {
      "image/png": "[encoded data removed]",
      "text/plain": [
       "<Figure size 640x480 with 1 Axes>"
      ]
     },
     "metadata": {},
     "output_type": "display_data"
    }
   ],
   "source": [
    "labels.value_counts().sort_values().plot(kind='bar')\n",
    "plt.show()"
   ]
  },
  {
   "cell_type": "markdown",
   "id": "f4041a6a-c191-45ec-b76c-42e1f7cc271a",
   "metadata": {},
   "source": [
    "# Tfidf"
   ]
  },
  {
   "cell_type": "code",
   "execution_count": 34,
   "id": "825c22cc-e475-4e6a-b467-f2bf632d5d2d",
   "metadata": {},
   "outputs": [],
   "source": [
    "from sklearn.feature_extraction.text import TfidfTransformer\n",
    "from sklearn.preprocessing import Normalizer"
   ]
  },
  {
   "cell_type": "code",
   "execution_count": 35,
   "id": "60a88f8a-b03d-4db6-9997-df202be4ad88",
   "metadata": {},
   "outputs": [],
   "source": [
    "tfidf = TfidfTransformer() #initialize vectorizer\n",
    "norm = Normalizer()\n",
    "x_countries = tfidf.fit_transform(country_vectors) #encode text\n",
    "x_countries = norm.fit_transform(x_countries)"
   ]
  },
  {
   "cell_type": "code",
   "execution_count": 36,
   "id": "51844d6b-c8ce-446d-84f1-8aa5356213c9",
   "metadata": {},
   "outputs": [
    {
     "name": "stdout",
     "output_type": "stream",
     "text": [
      "Shape of x: (18, 1289877)\n",
      "Sample vocab: ['companyspeak' 'companysunday' 'companythat' 'companythe' 'companytheir'\n",
      " 'companythronged' 'companytoday' 'companytugo' 'companytwo' 'companyuac'\n",
      " 'companywants' 'companywas' 'companywe' 'companywell' 'companywhich'\n",
      " 'companywide' 'companywill' 'companywould' 'compaoare' 'compaor']\n"
     ]
    }
   ],
   "source": [
    "print(f'Shape of x: {x_countries.shape}')\n",
    "\n",
    "#lots of nonsense; probably want to drop low-count words \n",
    "print('Sample vocab:',countv.get_feature_names_out()[300000:300020])"
   ]
  },
  {
   "cell_type": "markdown",
   "id": "2a0802a9-dca6-4ea4-b95c-c7452112d990",
   "metadata": {},
   "source": [
    "# Import peace labels"
   ]
  },
  {
   "cell_type": "code",
   "execution_count": 23,
   "id": "ef188aa4-82f5-4854-bd9a-e152a2515b16",
   "metadata": {},
   "outputs": [
    {
     "name": "stdout",
     "output_type": "stream",
     "text": [
      "['AU', 'CA', 'IE', 'NZ', 'SG', 'GB']\n",
      "['BD', 'KE', 'NG', 'PK', 'TZ']\n",
      "['GH', 'HK', 'IN', 'JM', 'MY', 'ZA', 'PH', 'LK', 'US']\n"
     ]
    }
   ],
   "source": [
    "import PyPDF2\n",
    "import re\n",
    "\n",
    "with open('power-of-peace-speech/README.md') as f:\n",
    "    text = f.read()\n",
    "    \n",
    "peacetable = ''.join(text.split('\\n')[34:46]).split('||')\n",
    "peacetable = [k.split('|') for k in peacetable]\n",
    "peacetable[0], peacetable[-1] = peacetable[0][1:], peacetable[-1][:-1]\n",
    "peacetable = np.array(peacetable)\n",
    "\n",
    "#Extracts abbreviations from a column\n",
    "extract_abbvs = lambda column: [re.search(r'\\((..)\\)',k.strip()).group(1) for k in column \n",
    "                                if re.search(r'\\((..)\\)',k.strip())]\n",
    "\n",
    "peaceful = extract_abbvs(peacetable[:,0])\n",
    "nonpeaceful = extract_abbvs(peacetable[:,1])\n",
    "neutral = extract_abbvs(peacetable[:,2])\n",
    "\n",
    "print(peaceful)\n",
    "print(nonpeaceful)\n",
    "print(neutral)"
   ]
  },
  {
   "cell_type": "markdown",
   "id": "3343dce6-3a7f-4b63-a804-e4f6554f54cd",
   "metadata": {},
   "source": [
    "## Create labeled datasets"
   ]
  },
  {
   "cell_type": "code",
   "execution_count": 24,
   "id": "cc8a220e-82b9-46f4-b94a-7def3ca45b18",
   "metadata": {},
   "outputs": [],
   "source": [
    "peace_indexer = lambda x: -1 if x in nonpeaceful else 1 if x in peaceful else 0\n",
    "peace_labs = labels.apply(peace_indexer)\n",
    "peace_country_labs = np.vectorize(peace_indexer)(enc.classes_)"
   ]
  },
  {
   "cell_type": "code",
   "execution_count": 25,
   "id": "a98faa71-03fd-49f9-b582-12c0f7c1b8c8",
   "metadata": {},
   "outputs": [],
   "source": [
    "#Create dataset of only high/low peace countries for country dataset\n",
    "xy_countries = pd.concat([pd.DataFrame(x_countries.todense()),pd.Series(peace_country_labs, name = 'peace_label')],axis = 1)\n",
    "xy_countries_hl = xy_countries[xy_countries.peace_label != 0]\n",
    "x_countries_hl = xy_countries_hl.drop('peace_label', axis = 1)\n",
    "y_countries_hl = xy_countries_hl['peace_label']"
   ]
  },
  {
   "cell_type": "markdown",
   "id": "a619cc1b-e782-4150-af38-cdfa4fed1bbe",
   "metadata": {
    "jp-MarkdownHeadingCollapsed": true,
    "tags": []
   },
   "source": [
    "### No longer using the table from this file"
   ]
  },
  {
   "cell_type": "code",
   "execution_count": 26,
   "id": "5558f213-7be4-45ab-99f4-7df765df30d8",
   "metadata": {},
   "outputs": [],
   "source": [
    "# pdf = PyPDF2.PdfReader('Peace-Speech-Project-Git/PeaceIndex/Highpeace-lowpeace.pdf')\n",
    "# table = pdf.pages[1].extract_text()\n",
    "# items = table[re.search('Table 3', table).span()[1]+1:]\\\n",
    "#         .strip().split('\\n')\n",
    "# p_index = pd.DataFrame(np.array(items[6:]).reshape(-1,7)[:,[0,-1]],\n",
    "#                       columns = ['Country', 'Peace'])"
   ]
  },
  {
   "cell_type": "code",
   "execution_count": 27,
   "id": "c5d51ce2-6b26-477b-bc97-8190ee1e6721",
   "metadata": {},
   "outputs": [],
   "source": [
    "# country_conversion = pd.read_csv('Peace-Speech-Project-Git/XLNet_News/preprocessing/country_converter_/country_data.tsv',\n",
    "#                                  sep = '\\t')\n",
    "# country_conversion[['name_short', 'name_official', 'ISO2']]"
   ]
  },
  {
   "cell_type": "code",
   "execution_count": 28,
   "id": "523a6085-eccc-40ee-a637-17e28aca0a7f",
   "metadata": {},
   "outputs": [],
   "source": [
    "# abbv = lambda name: country_conversion[country_conversion.name_short == name].ISO2.values[0]\n",
    "# unabbv = lambda abv: country_conversion[country_conversion.ISO2 == abv].name_short.values[0]"
   ]
  },
  {
   "cell_type": "code",
   "execution_count": 29,
   "id": "a4db11b1-44c8-4679-bd93-27fa1ad5b4b5",
   "metadata": {},
   "outputs": [],
   "source": [
    "# abbv('United Kingdom')"
   ]
  },
  {
   "cell_type": "code",
   "execution_count": null,
   "id": "3fd93c88-bb19-4a4a-b771-baae94507120",
   "metadata": {},
   "outputs": [],
   "source": [
    "# p_index.at[7,'Country'] = 'United Kingdom'\n",
    "# p_index.at[15,'Country'] = 'Poland'\n",
    "# p_index.at[17,'Country'] = 'Mexico'"
   ]
  },
  {
   "cell_type": "markdown",
   "id": "0e67b03c-8c54-40b2-80ff-83c21e0952b1",
   "metadata": {},
   "source": [
    "# Random Forest"
   ]
  },
  {
   "cell_type": "markdown",
   "id": "804ee9c4-44bc-4ded-bf32-4a80df74877b",
   "metadata": {},
   "source": [
    "## HL Country Dataset"
   ]
  },
  {
   "cell_type": "code",
   "execution_count": 37,
   "id": "c42bfc0d-81e1-48a2-a722-c9c9ef1997f0",
   "metadata": {},
   "outputs": [
    {
     "data": {
      "text/html": [
       "<div>\n",
       "<style scoped>\n",
       "    .dataframe tbody tr th:only-of-type {\n",
       "        vertical-align: middle;\n",
       "    }\n",
       "\n",
       "    .dataframe tbody tr th {\n",
       "        vertical-align: top;\n",
       "    }\n",
       "\n",
       "    .dataframe thead th {\n",
       "        text-align: right;\n",
       "    }\n",
       "</style>\n",
       "<table border=\"1\" class=\"dataframe\">\n",
       "  <thead>\n",
       "    <tr style=\"text-align: right;\">\n",
       "      <th></th>\n",
       "      <th>peace_preds</th>\n",
       "      <th>peace_label</th>\n",
       "      <th>pred_correct</th>\n",
       "    </tr>\n",
       "  </thead>\n",
       "  <tbody>\n",
       "    <tr>\n",
       "      <th>AU</th>\n",
       "      <td>1</td>\n",
       "      <td>1</td>\n",
       "      <td>True</td>\n",
       "    </tr>\n",
       "    <tr>\n",
       "      <th>BD</th>\n",
       "      <td>1</td>\n",
       "      <td>-1</td>\n",
       "      <td>False</td>\n",
       "    </tr>\n",
       "    <tr>\n",
       "      <th>CA</th>\n",
       "      <td>1</td>\n",
       "      <td>1</td>\n",
       "      <td>True</td>\n",
       "    </tr>\n",
       "    <tr>\n",
       "      <th>GB</th>\n",
       "      <td>1</td>\n",
       "      <td>1</td>\n",
       "      <td>True</td>\n",
       "    </tr>\n",
       "    <tr>\n",
       "      <th>IE</th>\n",
       "      <td>1</td>\n",
       "      <td>1</td>\n",
       "      <td>True</td>\n",
       "    </tr>\n",
       "    <tr>\n",
       "      <th>KE</th>\n",
       "      <td>-1</td>\n",
       "      <td>-1</td>\n",
       "      <td>True</td>\n",
       "    </tr>\n",
       "    <tr>\n",
       "      <th>NG</th>\n",
       "      <td>1</td>\n",
       "      <td>-1</td>\n",
       "      <td>False</td>\n",
       "    </tr>\n",
       "    <tr>\n",
       "      <th>NZ</th>\n",
       "      <td>1</td>\n",
       "      <td>1</td>\n",
       "      <td>True</td>\n",
       "    </tr>\n",
       "    <tr>\n",
       "      <th>SG</th>\n",
       "      <td>-1</td>\n",
       "      <td>1</td>\n",
       "      <td>False</td>\n",
       "    </tr>\n",
       "    <tr>\n",
       "      <th>TZ</th>\n",
       "      <td>-1</td>\n",
       "      <td>-1</td>\n",
       "      <td>True</td>\n",
       "    </tr>\n",
       "  </tbody>\n",
       "</table>\n",
       "</div>"
      ],
      "text/plain": [
       "    peace_preds  peace_label  pred_correct\n",
       "AU            1            1          True\n",
       "BD            1           -1         False\n",
       "CA            1            1          True\n",
       "GB            1            1          True\n",
       "IE            1            1          True\n",
       "KE           -1           -1          True\n",
       "NG            1           -1         False\n",
       "NZ            1            1          True\n",
       "SG           -1            1         False\n",
       "TZ           -1           -1          True"
      ]
     },
     "execution_count": 37,
     "metadata": {},
     "output_type": "execute_result"
    }
   ],
   "source": [
    "#Using the leave-one-out training\n",
    "\n",
    "#Create classifier\n",
    "from sklearn.ensemble import RandomForestClassifier\n",
    "rf_country_hl = RandomForestClassifier()\n",
    "\n",
    "#Leave-one-out training and predictions\n",
    "country_labels = list()\n",
    "peace_preds = list()\n",
    "for row in x_countries_hl.index:\n",
    "    rf_country_hl.fit(x_countries_hl.drop(row,axis = 0).values,y_countries_hl.drop(row,axis = 0).values)\n",
    "    country_labels.append(row)\n",
    "    peace_preds.append(rf_country_hl.predict(x_countries_hl.loc[row].values.reshape(1,-1))[0])\n",
    "    \n",
    "results = pd.DataFrame({'country_label':country_labels, 'peace_preds':peace_preds})\n",
    "results = pd.concat([results.set_index('country_label'),y_countries_hl], axis = 1)\n",
    "results['pred_correct'] = results.peace_preds == results.peace_label\n",
    "\n",
    "get_country_abbv_out = lambda x: enc.classes_[x]\n",
    "results.index = np.vectorize(get_country_abbv_out)(results.index)\n",
    "results"
   ]
  },
  {
   "cell_type": "code",
   "execution_count": 38,
   "id": "2d2ebc60-c5cf-4f2e-a31c-902e0a62ef1a",
   "metadata": {},
   "outputs": [
    {
     "data": {
      "text/html": [
       "<div>\n",
       "<style scoped>\n",
       "    .dataframe tbody tr th:only-of-type {\n",
       "        vertical-align: middle;\n",
       "    }\n",
       "\n",
       "    .dataframe tbody tr th {\n",
       "        vertical-align: top;\n",
       "    }\n",
       "\n",
       "    .dataframe thead th {\n",
       "        text-align: right;\n",
       "    }\n",
       "</style>\n",
       "<table border=\"1\" class=\"dataframe\">\n",
       "  <thead>\n",
       "    <tr style=\"text-align: right;\">\n",
       "      <th></th>\n",
       "      <th>peace_preds</th>\n",
       "      <th>peace_label</th>\n",
       "      <th>pred_correct</th>\n",
       "    </tr>\n",
       "  </thead>\n",
       "  <tbody>\n",
       "    <tr>\n",
       "      <th>AU</th>\n",
       "      <td>1</td>\n",
       "      <td>1</td>\n",
       "      <td>True</td>\n",
       "    </tr>\n",
       "    <tr>\n",
       "      <th>BD</th>\n",
       "      <td>-1</td>\n",
       "      <td>-1</td>\n",
       "      <td>True</td>\n",
       "    </tr>\n",
       "    <tr>\n",
       "      <th>CA</th>\n",
       "      <td>1</td>\n",
       "      <td>1</td>\n",
       "      <td>True</td>\n",
       "    </tr>\n",
       "    <tr>\n",
       "      <th>GB</th>\n",
       "      <td>1</td>\n",
       "      <td>1</td>\n",
       "      <td>True</td>\n",
       "    </tr>\n",
       "    <tr>\n",
       "      <th>IE</th>\n",
       "      <td>1</td>\n",
       "      <td>1</td>\n",
       "      <td>True</td>\n",
       "    </tr>\n",
       "    <tr>\n",
       "      <th>KE</th>\n",
       "      <td>-1</td>\n",
       "      <td>-1</td>\n",
       "      <td>True</td>\n",
       "    </tr>\n",
       "    <tr>\n",
       "      <th>NG</th>\n",
       "      <td>-1</td>\n",
       "      <td>-1</td>\n",
       "      <td>True</td>\n",
       "    </tr>\n",
       "    <tr>\n",
       "      <th>NZ</th>\n",
       "      <td>1</td>\n",
       "      <td>1</td>\n",
       "      <td>True</td>\n",
       "    </tr>\n",
       "    <tr>\n",
       "      <th>SG</th>\n",
       "      <td>1</td>\n",
       "      <td>1</td>\n",
       "      <td>True</td>\n",
       "    </tr>\n",
       "    <tr>\n",
       "      <th>TZ</th>\n",
       "      <td>-1</td>\n",
       "      <td>-1</td>\n",
       "      <td>True</td>\n",
       "    </tr>\n",
       "  </tbody>\n",
       "</table>\n",
       "</div>"
      ],
      "text/plain": [
       "    peace_preds  peace_label  pred_correct\n",
       "AU            1            1          True\n",
       "BD           -1           -1          True\n",
       "CA            1            1          True\n",
       "GB            1            1          True\n",
       "IE            1            1          True\n",
       "KE           -1           -1          True\n",
       "NG           -1           -1          True\n",
       "NZ            1            1          True\n",
       "SG            1            1          True\n",
       "TZ           -1           -1          True"
      ]
     },
     "execution_count": 38,
     "metadata": {},
     "output_type": "execute_result"
    }
   ],
   "source": [
    "#Just to get importances -- though will be overfit as no holdout\n",
    "rf_country_hl.fit(x_countries_hl.values,y_countries_hl.values)\n",
    "\n",
    "#Clearly overfit with 100% accuracy\n",
    "preds = rf_country_hl.predict(x_countries_hl.values)\n",
    "results = pd.DataFrame({'peace_preds':preds, 'peace_label': y_countries_hl.values},\n",
    "             index = np.vectorize(get_country_abbv_out)(x_countries_hl.index))\n",
    "results['pred_correct'] = results.peace_preds == results.peace_label\n",
    "results"
   ]
  },
  {
   "cell_type": "code",
   "execution_count": 39,
   "id": "401eecbf-22f1-4b37-8f98-f64184d96f69",
   "metadata": {},
   "outputs": [
    {
     "data": {
      "text/html": [
       "<div>\n",
       "<style scoped>\n",
       "    .dataframe tbody tr th:only-of-type {\n",
       "        vertical-align: middle;\n",
       "    }\n",
       "\n",
       "    .dataframe tbody tr th {\n",
       "        vertical-align: top;\n",
       "    }\n",
       "\n",
       "    .dataframe thead th {\n",
       "        text-align: right;\n",
       "    }\n",
       "</style>\n",
       "<table border=\"1\" class=\"dataframe\">\n",
       "  <thead>\n",
       "    <tr style=\"text-align: right;\">\n",
       "      <th></th>\n",
       "      <th>word_index</th>\n",
       "      <th>importance</th>\n",
       "      <th>word</th>\n",
       "    </tr>\n",
       "  </thead>\n",
       "  <tbody>\n",
       "    <tr>\n",
       "      <th>1240273</th>\n",
       "      <td>1240273</td>\n",
       "      <td>0.01</td>\n",
       "      <td>wakelin</td>\n",
       "    </tr>\n",
       "    <tr>\n",
       "      <th>823955</th>\n",
       "      <td>823955</td>\n",
       "      <td>0.01</td>\n",
       "      <td>nishu</td>\n",
       "    </tr>\n",
       "    <tr>\n",
       "      <th>732953</th>\n",
       "      <td>732953</td>\n",
       "      <td>0.01</td>\n",
       "      <td>mayweather</td>\n",
       "    </tr>\n",
       "    <tr>\n",
       "      <th>339175</th>\n",
       "      <td>339175</td>\n",
       "      <td>0.01</td>\n",
       "      <td>declutter</td>\n",
       "    </tr>\n",
       "    <tr>\n",
       "      <th>693156</th>\n",
       "      <td>693156</td>\n",
       "      <td>0.01</td>\n",
       "      <td>loud</td>\n",
       "    </tr>\n",
       "    <tr>\n",
       "      <th>406272</th>\n",
       "      <td>406272</td>\n",
       "      <td>0.01</td>\n",
       "      <td>epsom</td>\n",
       "    </tr>\n",
       "    <tr>\n",
       "      <th>1160064</th>\n",
       "      <td>1160064</td>\n",
       "      <td>0.01</td>\n",
       "      <td>tiar</td>\n",
       "    </tr>\n",
       "    <tr>\n",
       "      <th>987759</th>\n",
       "      <td>987759</td>\n",
       "      <td>0.01</td>\n",
       "      <td>revlon</td>\n",
       "    </tr>\n",
       "    <tr>\n",
       "      <th>767540</th>\n",
       "      <td>767540</td>\n",
       "      <td>0.01</td>\n",
       "      <td>mollema</td>\n",
       "    </tr>\n",
       "    <tr>\n",
       "      <th>86955</th>\n",
       "      <td>86955</td>\n",
       "      <td>0.01</td>\n",
       "      <td>absu</td>\n",
       "    </tr>\n",
       "    <tr>\n",
       "      <th>669757</th>\n",
       "      <td>669757</td>\n",
       "      <td>0.01</td>\n",
       "      <td>lauchlan</td>\n",
       "    </tr>\n",
       "    <tr>\n",
       "      <th>532755</th>\n",
       "      <td>532755</td>\n",
       "      <td>0.01</td>\n",
       "      <td>hollies</td>\n",
       "    </tr>\n",
       "    <tr>\n",
       "      <th>540097</th>\n",
       "      <td>540097</td>\n",
       "      <td>0.01</td>\n",
       "      <td>huey</td>\n",
       "    </tr>\n",
       "    <tr>\n",
       "      <th>1176882</th>\n",
       "      <td>1176882</td>\n",
       "      <td>0.01</td>\n",
       "      <td>transylvanian</td>\n",
       "    </tr>\n",
       "    <tr>\n",
       "      <th>906069</th>\n",
       "      <td>906069</td>\n",
       "      <td>0.01</td>\n",
       "      <td>petanque</td>\n",
       "    </tr>\n",
       "    <tr>\n",
       "      <th>591244</th>\n",
       "      <td>591244</td>\n",
       "      <td>0.01</td>\n",
       "      <td>jed</td>\n",
       "    </tr>\n",
       "    <tr>\n",
       "      <th>719533</th>\n",
       "      <td>719533</td>\n",
       "      <td>0.01</td>\n",
       "      <td>manouver</td>\n",
       "    </tr>\n",
       "    <tr>\n",
       "      <th>476996</th>\n",
       "      <td>476996</td>\n",
       "      <td>0.01</td>\n",
       "      <td>gibraltar</td>\n",
       "    </tr>\n",
       "    <tr>\n",
       "      <th>559163</th>\n",
       "      <td>559163</td>\n",
       "      <td>0.01</td>\n",
       "      <td>inadequate</td>\n",
       "    </tr>\n",
       "    <tr>\n",
       "      <th>428053</th>\n",
       "      <td>428053</td>\n",
       "      <td>0.01</td>\n",
       "      <td>fatuma</td>\n",
       "    </tr>\n",
       "    <tr>\n",
       "      <th>73768</th>\n",
       "      <td>73768</td>\n",
       "      <td>0.01</td>\n",
       "      <td>861million</td>\n",
       "    </tr>\n",
       "    <tr>\n",
       "      <th>507030</th>\n",
       "      <td>507030</td>\n",
       "      <td>0.01</td>\n",
       "      <td>haji</td>\n",
       "    </tr>\n",
       "    <tr>\n",
       "      <th>684687</th>\n",
       "      <td>684687</td>\n",
       "      <td>0.01</td>\n",
       "      <td>lionel</td>\n",
       "    </tr>\n",
       "    <tr>\n",
       "      <th>368621</th>\n",
       "      <td>368621</td>\n",
       "      <td>0.01</td>\n",
       "      <td>donetsk</td>\n",
       "    </tr>\n",
       "    <tr>\n",
       "      <th>1101719</th>\n",
       "      <td>1101719</td>\n",
       "      <td>0.01</td>\n",
       "      <td>statistically</td>\n",
       "    </tr>\n",
       "    <tr>\n",
       "      <th>972181</th>\n",
       "      <td>972181</td>\n",
       "      <td>0.01</td>\n",
       "      <td>really</td>\n",
       "    </tr>\n",
       "    <tr>\n",
       "      <th>686530</th>\n",
       "      <td>686530</td>\n",
       "      <td>0.01</td>\n",
       "      <td>liveable</td>\n",
       "    </tr>\n",
       "    <tr>\n",
       "      <th>1245810</th>\n",
       "      <td>1245810</td>\n",
       "      <td>0.01</td>\n",
       "      <td>wattage</td>\n",
       "    </tr>\n",
       "    <tr>\n",
       "      <th>459895</th>\n",
       "      <td>459895</td>\n",
       "      <td>0.01</td>\n",
       "      <td>gaff</td>\n",
       "    </tr>\n",
       "    <tr>\n",
       "      <th>153173</th>\n",
       "      <td>153173</td>\n",
       "      <td>0.01</td>\n",
       "      <td>assembly</td>\n",
       "    </tr>\n",
       "  </tbody>\n",
       "</table>\n",
       "</div>"
      ],
      "text/plain": [
       "        word_index  importance           word\n",
       "1240273    1240273        0.01        wakelin\n",
       "823955      823955        0.01          nishu\n",
       "732953      732953        0.01     mayweather\n",
       "339175      339175        0.01      declutter\n",
       "693156      693156        0.01           loud\n",
       "406272      406272        0.01          epsom\n",
       "1160064    1160064        0.01           tiar\n",
       "987759      987759        0.01         revlon\n",
       "767540      767540        0.01        mollema\n",
       "86955        86955        0.01           absu\n",
       "669757      669757        0.01       lauchlan\n",
       "532755      532755        0.01        hollies\n",
       "540097      540097        0.01           huey\n",
       "1176882    1176882        0.01  transylvanian\n",
       "906069      906069        0.01       petanque\n",
       "591244      591244        0.01            jed\n",
       "719533      719533        0.01       manouver\n",
       "476996      476996        0.01      gibraltar\n",
       "559163      559163        0.01     inadequate\n",
       "428053      428053        0.01         fatuma\n",
       "73768        73768        0.01     861million\n",
       "507030      507030        0.01           haji\n",
       "684687      684687        0.01         lionel\n",
       "368621      368621        0.01        donetsk\n",
       "1101719    1101719        0.01  statistically\n",
       "972181      972181        0.01         really\n",
       "686530      686530        0.01       liveable\n",
       "1245810    1245810        0.01        wattage\n",
       "459895      459895        0.01           gaff\n",
       "153173      153173        0.01       assembly"
      ]
     },
     "execution_count": 39,
     "metadata": {},
     "output_type": "execute_result"
    }
   ],
   "source": [
    "importances = pd.DataFrame({'word_index':x_countries_hl.columns, 'importance':rf_country_hl.feature_importances_})\n",
    "importances['word'] = importances.word_index.apply(lambda k: vocab_swap[k])\n",
    "\n",
    "#Also mostly nonsense -- could be that instances of nonce words too strongly identify certain country origins,\n",
    "#hence it can memorize the countries\n",
    "importances.sort_values('importance', ascending=False).head(30)"
   ]
  },
  {
   "cell_type": "markdown",
   "id": "df5ad6ab-8d4e-40f4-8621-9867219f4970",
   "metadata": {},
   "source": [
    "## HL Boostrapped Dataset"
   ]
  },
  {
   "cell_type": "code",
   "execution_count": null,
   "id": "c1a8923e-c7ea-4db7-85ce-f9c76492b6f5",
   "metadata": {},
   "outputs": [],
   "source": []
  }
 ],
 "metadata": {
  "kernelspec": {
   "display_name": "Python 3 (ipykernel)",
   "language": "python",
   "name": "python3"
  },
  "language_info": {
   "codemirror_mode": {
    "name": "ipython",
    "version": 3
   },
   "file_extension": ".py",
   "mimetype": "text/x-python",
   "name": "python",
   "nbconvert_exporter": "python",
   "pygments_lexer": "ipython3",
   "version": "3.8.15"
  }
 },
 "nbformat": 4,
 "nbformat_minor": 5
}
